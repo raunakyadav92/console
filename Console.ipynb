{
  "nbformat": 4,
  "nbformat_minor": 0,
  "metadata": {
    "colab": {
      "provenance": [],
      "authorship_tag": "ABX9TyMtHwOcy0jKgyazC1aS4eyj",
      "include_colab_link": true
    },
    "kernelspec": {
      "name": "python3",
      "display_name": "Python 3"
    },
    "language_info": {
      "name": "python"
    }
  },
  "cells": [
    {
      "cell_type": "markdown",
      "metadata": {
        "id": "view-in-github",
        "colab_type": "text"
      },
      "source": [
        "<a href=\"https://colab.research.google.com/github/raunakyadav92/console/blob/main/Console.ipynb\" target=\"_parent\"><img src=\"https://colab.research.google.com/assets/colab-badge.svg\" alt=\"Open In Colab\"/></a>"
      ]
    },
    {
      "cell_type": "code",
      "execution_count": null,
      "metadata": {
        "id": "sLqQOzKb7W6b"
      },
      "outputs": [],
      "source": [
        "# LearnLoop - Python Console Quiz App\n",
        "\n",
        "def display_question(q, options, correct_ans):\n",
        "    print(f\"\\n{q}\")\n",
        "    for idx, option in enumerate(options, 1):\n",
        "        print(f\"{idx}. {option}\")\n",
        "    user_choice = input(\"Your answer (1-4): \")\n",
        "    return user_choice == str(correct_ans)\n",
        "\n",
        "def start_quiz():\n",
        "    print(\"\\n=== Welcome to LearnLoop Quiz ===\\n\")\n",
        "    score = 0\n",
        "    questions = [\n",
        "        {\n",
        "            \"q\": \"Which keyword is used to create a function in Python?\",\n",
        "            \"options\": [\"def\", \"func\", \"function\", \"define\"],\n",
        "            \"ans\": 1\n",
        "        },\n",
        "        {\n",
        "            \"q\": \"Which data type is immutable in Python?\",\n",
        "            \"options\": [\"List\", \"Tuple\", \"Dictionary\", \"Set\"],\n",
        "            \"ans\": 2\n",
        "        },\n",
        "        {\n",
        "            \"q\": \"What does 'input()' function do?\",\n",
        "            \"options\": [\"Takes user input\", \"Prints output\", \"Loops data\", \"None\"],\n",
        "            \"ans\": 1\n",
        "        }\n",
        "    ]\n",
        "\n",
        "    for q in questions:\n",
        "        if display_question(q[\"q\"], q[\"options\"], q[\"ans\"]):\n",
        "            print(\"✅ Correct!\")\n",
        "            score += 1\n",
        "        else:\n",
        "            print(\"❌ Incorrect!\")\n",
        "\n",
        "    print(f\"\\n🎯 Your Final Score: {score}/{len(questions)}\\n\")\n",
        "    print(\"Thank you for using LearnLoop!\")\n",
        "\n",
        "if __name__ == \"__main__\":\n",
        "    while True:\n",
        "        start_quiz()\n",
        "        retry = input(\"Do you want to play again? (yes/no): \").lower()\n",
        "        if retry != 'yes':\n",
        "            print(\"Goodbye! Keep Learning with LearnLoop!\")\n",
        "            break\n"
      ]
    }
  ]
}